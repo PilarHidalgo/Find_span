{
 "cells": [
  {
   "cell_type": "markdown",
   "metadata": {},
   "source": [
    "## Encontrar SPAN"
   ]
  },
  {
   "cell_type": "code",
   "execution_count": null,
   "metadata": {},
   "outputs": [],
   "source": [
    "#IMPORTAR LIBRERIAS\n",
    "import pandas as pd\n",
    "import spacy\n",
    "from spacy.lang.es import Spanish\n",
    "from spacy.pipeline import EntityRuler\n",
    "from tqdm import tqdm, trange\n",
    "import os\n",
    "import re"
   ]
  },
  {
   "cell_type": "code",
   "execution_count": null,
   "metadata": {},
   "outputs": [],
   "source": [
    "def preprocess(text):\n",
    "    nlp = Spanish()\n",
    "    result= []\n",
    "    for i in trange(0,len(text)):\n",
    "        text[i]=str(text[i])\n",
    "        text[i]=re.sub(u'^(?<![a-z A-Z])',' ',text[i])\n",
    "        text[i]=text[i].lower()\n",
    "        text[i]=text[i].replace('.',' ')\n",
    "        text[i]=text[i].replace('-',' ')\n",
    "        a,b = 'áéíóúü','aeiouu'\n",
    "        trans = str.maketrans(a,b)\n",
    "        text[i]=text[i].translate(trans)\n",
    "        text[i]=text[i].strip()\n",
    "        doc=nlp(text[i])\n",
    "        t=[token.text for token in doc if not token.is_punct]\n",
    "        result.append(' '.join(list(t)))\n",
    "    return result"
   ]
  },
  {
   "cell_type": "code",
   "execution_count": 5,
   "metadata": {},
   "outputs": [],
   "source": [
    "#CARGAR EL DATASET POR HOJA A PROCESAR\n",
    "db=pd.read_excel('Data.xlsx', delimiter=';',encoding='latin-1')\n",
    "#cuidar de nno tener valores NaN\n",
    "values={'NaN':'Ninguna'}\n",
    "db=db.fillna(value=values)\n",
    "db=db.reset_index()"
   ]
  },
  {
   "cell_type": "code",
   "execution_count": 1,
   "metadata": {},
   "outputs": [],
   "source": [
    "#Preprocesar el texto de la base de datos\n",
    "db['Texto']=preprocess(db['Texto'])"
   ]
  },
  {
   "cell_type": "code",
   "execution_count": null,
   "metadata": {},
   "outputs": [],
   "source": [
    "#Funcion encontrar proveedor\n",
    "def find_SPAN(sentence,diccionario):#,sheet):\n",
    "    #Esta funcion esta implementada para 2 posibles nombres de una sola entidad ejemplo:\n",
    "    #Banco de Crédito de Perú: BCP, BCP-Banco de credito, banco de credito\n",
    "    df=pd.read_excel(diccionario, delimiter=';',encoding='latin-1')#puedes tener varios sheets con diferentes diccionarios en una sola hoja excel\n",
    "    #creardo diccionarios en la estructura que Spacy requiere\n",
    "    df1=df[['label','pattern']]\n",
    "    df2=df[['label','pattern.1']]\n",
    "    df2=df2.rename(columns={'pattern.1':'pattern'}, inplace = False)\n",
    "    #Crear los diccionarios #si los nombres del conjunto SPAN son mas de 2 es necesario tambien implementar \n",
    "    #mas patterns\n",
    "    patterns1=df1.to_dict(orient='records')\n",
    "    patterns2=df2.to_dict(orient='records')\n",
    "    #patternsn=dfn.to_dict(orient='records')\n",
    "    patterns=patterns1+patterns2\n",
    "    #Crear el objeto NLP\n",
    "    nlp = Spanish()\n",
    "    ruler = EntityRuler(nlp)\n",
    "    ruler.add_patterns(patterns)\n",
    "    nlp.add_pipe(ruler)\n",
    "\n",
    "    #Preprocesar la entrada\n",
    "    a,b = 'áéíóúü','aeiouu'\n",
    "    trans = str.maketrans(a,b)\n",
    "    sentence=sentence.lower().translate(trans)\n",
    "    doc = nlp(sentence)\n",
    "    #Devuelve la etiqueta real de la entidad\n",
    "    if (sentence=='' or  sentence==' ' or sentence=='Por definir' or sentence=='por definir' or\n",
    "       sentence=='no hay datos ' or sentence=='nan'):\n",
    "        label=['No encontrado']#con esto evitaremos el rpoblema de comillas\n",
    "    else: \n",
    "        label= list(set([ent.label_ for ent in doc.ents]))\n",
    "    #label no establecida\n",
    "    if label!=[]:\n",
    "        label=label\n",
    "    else: label=['No encontrado']#con esto evitaremos el problema de comillas\n",
    "    return label[0]#agregando el[0]obtenemos solo el elemento entre comillas sin corchetes y solo un proveedor"
   ]
  },
  {
   "cell_type": "code",
   "execution_count": null,
   "metadata": {},
   "outputs": [],
   "source": [
    "#APLICAR LA FUNCION find_SPAN\n",
    "#Se generas una columna en el data set con los SPAN encontrados\n",
    "db['SPAN']=db.apply(lambda x: find_SPAN(str(x['Texto']),'Diccionario.xlsx'),axis=1)"
   ]
  },
  {
   "cell_type": "code",
   "execution_count": null,
   "metadata": {},
   "outputs": [],
   "source": [
    "db.to_excel('Data_span.xlsx',index=False)"
   ]
  }
 ],
 "metadata": {
  "kernelspec": {
   "display_name": "Python 3",
   "language": "python",
   "name": "python3"
  },
  "language_info": {
   "codemirror_mode": {
    "name": "ipython",
    "version": 3
   },
   "file_extension": ".py",
   "mimetype": "text/x-python",
   "name": "python",
   "nbconvert_exporter": "python",
   "pygments_lexer": "ipython3",
   "version": "3.8.3"
  }
 },
 "nbformat": 4,
 "nbformat_minor": 4
}
